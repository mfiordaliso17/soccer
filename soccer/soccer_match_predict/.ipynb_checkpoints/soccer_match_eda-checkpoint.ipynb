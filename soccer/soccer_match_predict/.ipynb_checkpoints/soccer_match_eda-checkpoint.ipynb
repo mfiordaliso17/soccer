{
 "cells": [
  {
   "cell_type": "code",
   "execution_count": 3,
   "metadata": {},
   "outputs": [],
   "source": [
    "import pandas as pd\n",
    "import numpy as np"
   ]
  },
  {
   "cell_type": "markdown",
   "metadata": {},
   "source": [
    "# Data"
   ]
  },
  {
   "cell_type": "code",
   "execution_count": 4,
   "metadata": {
    "scrolled": true
   },
   "outputs": [
    {
     "data": {
      "text/html": [
       "<div>\n",
       "<style scoped>\n",
       "    .dataframe tbody tr th:only-of-type {\n",
       "        vertical-align: middle;\n",
       "    }\n",
       "\n",
       "    .dataframe tbody tr th {\n",
       "        vertical-align: top;\n",
       "    }\n",
       "\n",
       "    .dataframe thead th {\n",
       "        text-align: right;\n",
       "    }\n",
       "</style>\n",
       "<table border=\"1\" class=\"dataframe\">\n",
       "  <thead>\n",
       "    <tr style=\"text-align: right;\">\n",
       "      <th></th>\n",
       "      <th>date</th>\n",
       "      <th>sport</th>\n",
       "      <th>home_team</th>\n",
       "      <th>away_team</th>\n",
       "      <th>home_1H</th>\n",
       "      <th>home_2H</th>\n",
       "      <th>away_1H</th>\n",
       "      <th>away_2H</th>\n",
       "      <th>home_score</th>\n",
       "      <th>away_score</th>\n",
       "      <th>...</th>\n",
       "      <th>youwager_h</th>\n",
       "      <th>youwager_a</th>\n",
       "      <th>youwager_t</th>\n",
       "      <th>justbet_h</th>\n",
       "      <th>justbet_a</th>\n",
       "      <th>justbet_t</th>\n",
       "      <th>sportsbet_h</th>\n",
       "      <th>sportsbet_a</th>\n",
       "      <th>sportsbet_t</th>\n",
       "      <th>odds_URL</th>\n",
       "    </tr>\n",
       "  </thead>\n",
       "  <tbody>\n",
       "    <tr>\n",
       "      <th>0</th>\n",
       "      <td>20150808</td>\n",
       "      <td>soccer_epl</td>\n",
       "      <td>Bournemouth AFC</td>\n",
       "      <td>Aston Villa</td>\n",
       "      <td>0.0</td>\n",
       "      <td>0.0</td>\n",
       "      <td>0.0</td>\n",
       "      <td>1.0</td>\n",
       "      <td>0.0</td>\n",
       "      <td>1.0</td>\n",
       "      <td>...</td>\n",
       "      <td>-123.0</td>\n",
       "      <td>341.0</td>\n",
       "      <td>267.0</td>\n",
       "      <td>-120.0</td>\n",
       "      <td>345.0</td>\n",
       "      <td>272.0</td>\n",
       "      <td>-128.0</td>\n",
       "      <td>330.0</td>\n",
       "      <td>290.0</td>\n",
       "      <td>https://classic.sportsbookreview.com/betting-o...</td>\n",
       "    </tr>\n",
       "    <tr>\n",
       "      <th>1</th>\n",
       "      <td>20150808</td>\n",
       "      <td>soccer_epl</td>\n",
       "      <td>Chelsea FC</td>\n",
       "      <td>Swansea City</td>\n",
       "      <td>2.0</td>\n",
       "      <td>0.0</td>\n",
       "      <td>1.0</td>\n",
       "      <td>1.0</td>\n",
       "      <td>2.0</td>\n",
       "      <td>2.0</td>\n",
       "      <td>...</td>\n",
       "      <td>-256.0</td>\n",
       "      <td>765.0</td>\n",
       "      <td>362.0</td>\n",
       "      <td>-290.0</td>\n",
       "      <td>975.0</td>\n",
       "      <td>390.0</td>\n",
       "      <td>-285.0</td>\n",
       "      <td>900.0</td>\n",
       "      <td>375.0</td>\n",
       "      <td>https://classic.sportsbookreview.com/betting-o...</td>\n",
       "    </tr>\n",
       "    <tr>\n",
       "      <th>2</th>\n",
       "      <td>20150808</td>\n",
       "      <td>soccer_epl</td>\n",
       "      <td>Crystal Palace</td>\n",
       "      <td>Norwich City</td>\n",
       "      <td>1.0</td>\n",
       "      <td>2.0</td>\n",
       "      <td>0.0</td>\n",
       "      <td>1.0</td>\n",
       "      <td>3.0</td>\n",
       "      <td>1.0</td>\n",
       "      <td>...</td>\n",
       "      <td>199.0</td>\n",
       "      <td>147.0</td>\n",
       "      <td>222.0</td>\n",
       "      <td>205.0</td>\n",
       "      <td>145.0</td>\n",
       "      <td>230.0</td>\n",
       "      <td>205.0</td>\n",
       "      <td>144.0</td>\n",
       "      <td>220.0</td>\n",
       "      <td>https://classic.sportsbookreview.com/betting-o...</td>\n",
       "    </tr>\n",
       "    <tr>\n",
       "      <th>3</th>\n",
       "      <td>20150808</td>\n",
       "      <td>soccer_epl</td>\n",
       "      <td>Manchester United</td>\n",
       "      <td>Tottenham Hotspur</td>\n",
       "      <td>1.0</td>\n",
       "      <td>0.0</td>\n",
       "      <td>0.0</td>\n",
       "      <td>0.0</td>\n",
       "      <td>1.0</td>\n",
       "      <td>0.0</td>\n",
       "      <td>...</td>\n",
       "      <td>-164.0</td>\n",
       "      <td>450.0</td>\n",
       "      <td>303.0</td>\n",
       "      <td>-150.0</td>\n",
       "      <td>465.0</td>\n",
       "      <td>290.0</td>\n",
       "      <td>-159.0</td>\n",
       "      <td>520.0</td>\n",
       "      <td>265.0</td>\n",
       "      <td>https://classic.sportsbookreview.com/betting-o...</td>\n",
       "    </tr>\n",
       "    <tr>\n",
       "      <th>4</th>\n",
       "      <td>20150808</td>\n",
       "      <td>soccer_epl</td>\n",
       "      <td>Sunderland AFC</td>\n",
       "      <td>Leicester City</td>\n",
       "      <td>0.0</td>\n",
       "      <td>2.0</td>\n",
       "      <td>3.0</td>\n",
       "      <td>1.0</td>\n",
       "      <td>2.0</td>\n",
       "      <td>4.0</td>\n",
       "      <td>...</td>\n",
       "      <td>382.0</td>\n",
       "      <td>-128.0</td>\n",
       "      <td>256.0</td>\n",
       "      <td>375.0</td>\n",
       "      <td>-125.0</td>\n",
       "      <td>265.0</td>\n",
       "      <td>370.0</td>\n",
       "      <td>-127.0</td>\n",
       "      <td>260.0</td>\n",
       "      <td>https://classic.sportsbookreview.com/betting-o...</td>\n",
       "    </tr>\n",
       "  </tbody>\n",
       "</table>\n",
       "<p>5 rows × 43 columns</p>\n",
       "</div>"
      ],
      "text/plain": [
       "       date       sport          home_team          away_team  home_1H  \\\n",
       "0  20150808  soccer_epl    Bournemouth AFC        Aston Villa      0.0   \n",
       "1  20150808  soccer_epl         Chelsea FC       Swansea City      2.0   \n",
       "2  20150808  soccer_epl     Crystal Palace       Norwich City      1.0   \n",
       "3  20150808  soccer_epl  Manchester United  Tottenham Hotspur      1.0   \n",
       "4  20150808  soccer_epl     Sunderland AFC     Leicester City      0.0   \n",
       "\n",
       "   home_2H  away_1H  away_2H  home_score  away_score  ... youwager_h  \\\n",
       "0      0.0      0.0      1.0         0.0         1.0  ...     -123.0   \n",
       "1      0.0      1.0      1.0         2.0         2.0  ...     -256.0   \n",
       "2      2.0      0.0      1.0         3.0         1.0  ...      199.0   \n",
       "3      0.0      0.0      0.0         1.0         0.0  ...     -164.0   \n",
       "4      2.0      3.0      1.0         2.0         4.0  ...      382.0   \n",
       "\n",
       "  youwager_a  youwager_t  justbet_h  justbet_a  justbet_t  sportsbet_h  \\\n",
       "0      341.0       267.0     -120.0      345.0      272.0       -128.0   \n",
       "1      765.0       362.0     -290.0      975.0      390.0       -285.0   \n",
       "2      147.0       222.0      205.0      145.0      230.0        205.0   \n",
       "3      450.0       303.0     -150.0      465.0      290.0       -159.0   \n",
       "4     -128.0       256.0      375.0     -125.0      265.0        370.0   \n",
       "\n",
       "   sportsbet_a  sportsbet_t                                           odds_URL  \n",
       "0        330.0        290.0  https://classic.sportsbookreview.com/betting-o...  \n",
       "1        900.0        375.0  https://classic.sportsbookreview.com/betting-o...  \n",
       "2        144.0        220.0  https://classic.sportsbookreview.com/betting-o...  \n",
       "3        520.0        265.0  https://classic.sportsbookreview.com/betting-o...  \n",
       "4       -127.0        260.0  https://classic.sportsbookreview.com/betting-o...  \n",
       "\n",
       "[5 rows x 43 columns]"
      ]
     },
     "execution_count": 4,
     "metadata": {},
     "output_type": "execute_result"
    }
   ],
   "source": [
    "odd_data = pd.read_csv('/Users/markusfiordaliso/Documents/coding_projects/sports_bet/soccer_bet_win_draw/data/soccer_epl_20150201_20201210.csv')\n",
    "odd_data.head()"
   ]
  },
  {
   "cell_type": "code",
   "execution_count": 5,
   "metadata": {},
   "outputs": [],
   "source": [
    "# remove unneccesary columns\n",
    "odd_data = odd_data.loc[:, 'date':'pinnacle_t']"
   ]
  },
  {
   "cell_type": "code",
   "execution_count": 6,
   "metadata": {},
   "outputs": [
    {
     "data": {
      "text/plain": [
       "date           0\n",
       "sport          0\n",
       "home_team      0\n",
       "away_team      0\n",
       "home_1H       10\n",
       "home_2H        7\n",
       "away_1H       11\n",
       "away_2H        7\n",
       "home_score     7\n",
       "away_score     7\n",
       "home_open     87\n",
       "away_open     88\n",
       "pinnacle_h    82\n",
       "pinnacle_a    82\n",
       "pinnacle_t    78\n",
       "dtype: int64"
      ]
     },
     "execution_count": 6,
     "metadata": {},
     "output_type": "execute_result"
    }
   ],
   "source": [
    "# remove nas\n",
    "odd_data.isnull().sum()"
   ]
  },
  {
   "cell_type": "code",
   "execution_count": 7,
   "metadata": {},
   "outputs": [],
   "source": [
    "odd_data = odd_data.dropna()"
   ]
  },
  {
   "cell_type": "code",
   "execution_count": 10,
   "metadata": {},
   "outputs": [
    {
     "data": {
      "text/plain": [
       "date          0\n",
       "sport         0\n",
       "home_team     0\n",
       "away_team     0\n",
       "home_1H       0\n",
       "home_2H       0\n",
       "away_1H       0\n",
       "away_2H       0\n",
       "home_score    0\n",
       "away_score    0\n",
       "home_open     0\n",
       "away_open     0\n",
       "pinnacle_h    0\n",
       "pinnacle_a    0\n",
       "pinnacle_t    0\n",
       "dtype: int64"
      ]
     },
     "execution_count": 10,
     "metadata": {},
     "output_type": "execute_result"
    }
   ],
   "source": [
    "odd_data.isnull().sum()"
   ]
  },
  {
   "cell_type": "code",
   "execution_count": null,
   "metadata": {},
   "outputs": [],
   "source": []
  }
 ],
 "metadata": {
  "kernelspec": {
   "display_name": "Python 3",
   "language": "python",
   "name": "python3"
  },
  "language_info": {
   "codemirror_mode": {
    "name": "ipython",
    "version": 3
   },
   "file_extension": ".py",
   "mimetype": "text/x-python",
   "name": "python",
   "nbconvert_exporter": "python",
   "pygments_lexer": "ipython3",
   "version": "3.8.5"
  }
 },
 "nbformat": 4,
 "nbformat_minor": 4
}
